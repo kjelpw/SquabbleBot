{
 "cells": [
  {
   "cell_type": "code",
   "execution_count": 17,
   "metadata": {},
   "outputs": [],
   "source": [
    "import csv\n",
    "from functools import reduce\n",
    "import operator"
   ]
  },
  {
   "cell_type": "code",
   "execution_count": 8,
   "metadata": {},
   "outputs": [],
   "source": [
    "with open(\"dict.csv\", \"r\") as f:\n",
    "    reader = csv.reader(f)\n",
    "    word_list = list(reader)\n",
    "    word_list = reduce(lambda x, y: x + y, word_list)"
   ]
  },
  {
   "cell_type": "code",
   "execution_count": 51,
   "metadata": {},
   "outputs": [
    {
     "name": "stdout",
     "output_type": "stream",
     "text": [
      "{'a': 3401, 'b': 121, 'c': 285, 'd': 154, 'e': 2372, 'f': 46, 'g': 119, 'h': 824, 'i': 1945, 'j': 22, 'k': 134, 'l': 977, 'm': 273, 'n': 603, 'o': 2815, 'p': 327, 'q': 21, 'r': 1322, 's': 189, 't': 353, 'u': 1682, 'v': 91, 'w': 213, 'x': 84, 'y': 364, 'z': 46}\n"
     ]
    },
    {
     "data": {
      "text/plain": [
       "[{'x': 0,\n",
       "  'q': 1,\n",
       "  'z': 2,\n",
       "  'y': 3,\n",
       "  'j': 4,\n",
       "  'i': 5,\n",
       "  'v': 6,\n",
       "  'u': 7,\n",
       "  'o': 8,\n",
       "  'n': 9,\n",
       "  'e': 10,\n",
       "  'w': 11,\n",
       "  'k': 12,\n",
       "  'h': 13,\n",
       "  'f': 14,\n",
       "  'l': 15,\n",
       "  'r': 16,\n",
       "  'g': 17,\n",
       "  'd': 18,\n",
       "  'm': 19,\n",
       "  'p': 20,\n",
       "  't': 21,\n",
       "  'a': 22,\n",
       "  'b': 23,\n",
       "  'c': 24,\n",
       "  's': 25},\n",
       " {'q': 0,\n",
       "  'j': 1,\n",
       "  'f': 2,\n",
       "  'z': 3,\n",
       "  'x': 4,\n",
       "  'v': 5,\n",
       "  'g': 6,\n",
       "  'b': 7,\n",
       "  'k': 8,\n",
       "  'd': 9,\n",
       "  's': 10,\n",
       "  'w': 11,\n",
       "  'm': 12,\n",
       "  'c': 13,\n",
       "  'p': 14,\n",
       "  't': 15,\n",
       "  'y': 16,\n",
       "  'n': 17,\n",
       "  'h': 18,\n",
       "  'l': 19,\n",
       "  'r': 20,\n",
       "  'u': 21,\n",
       "  'i': 22,\n",
       "  'e': 23,\n",
       "  'o': 24,\n",
       "  'a': 25},\n",
       " {'q': 0,\n",
       "  'j': 1,\n",
       "  'x': 2,\n",
       "  'z': 3,\n",
       "  'f': 4,\n",
       "  'h': 5,\n",
       "  'y': 6,\n",
       "  'v': 7,\n",
       "  'w': 8,\n",
       "  'k': 9,\n",
       "  'p': 10,\n",
       "  'b': 11,\n",
       "  'g': 12,\n",
       "  'd': 13,\n",
       "  'c': 14,\n",
       "  'm': 15,\n",
       "  's': 16,\n",
       "  't': 17,\n",
       "  'u': 18,\n",
       "  'l': 19,\n",
       "  'e': 20,\n",
       "  'o': 21,\n",
       "  'n': 22,\n",
       "  'i': 23,\n",
       "  'a': 24,\n",
       "  'r': 25},\n",
       " {'q': 0,\n",
       "  'x': 1,\n",
       "  'j': 2,\n",
       "  'z': 3,\n",
       "  'w': 4,\n",
       "  'y': 5,\n",
       "  'v': 6,\n",
       "  'f': 7,\n",
       "  'h': 8,\n",
       "  'b': 9,\n",
       "  'p': 10,\n",
       "  'm': 11,\n",
       "  'g': 12,\n",
       "  'c': 13,\n",
       "  'k': 14,\n",
       "  'd': 15,\n",
       "  'u': 16,\n",
       "  's': 17,\n",
       "  'r': 18,\n",
       "  'o': 19,\n",
       "  'l': 20,\n",
       "  'n': 21,\n",
       "  't': 22,\n",
       "  'i': 23,\n",
       "  'a': 24,\n",
       "  'e': 25},\n",
       " {'j': 0,\n",
       "  'q': 1,\n",
       "  'v': 2,\n",
       "  'z': 3,\n",
       "  'w': 4,\n",
       "  'b': 5,\n",
       "  'f': 6,\n",
       "  'x': 7,\n",
       "  'u': 8,\n",
       "  'g': 9,\n",
       "  'c': 10,\n",
       "  'p': 11,\n",
       "  'm': 12,\n",
       "  'k': 13,\n",
       "  'h': 14,\n",
       "  'i': 15,\n",
       "  'o': 16,\n",
       "  'l': 17,\n",
       "  'r': 18,\n",
       "  'n': 19,\n",
       "  'd': 20,\n",
       "  't': 21,\n",
       "  'a': 22,\n",
       "  'y': 23,\n",
       "  'e': 24,\n",
       "  's': 25}]"
      ]
     },
     "execution_count": 51,
     "metadata": {},
     "output_type": "execute_result"
    }
   ],
   "source": [
    "# Create dictionary where key is a letter and the value is the number of times that letter appears in the ith spot\n",
    "\n",
    "index_dict_array = [{}, {}, {}, {}, {}]\n",
    "\n",
    "# Create 5 dictionaries, with the keys as the alphabet and 0 as the value\n",
    "for i in range(5):\n",
    "    for letter in \"abcdefghijklmnopqrstuvwxyz\":\n",
    "        index_dict_array[i][letter] = 0\n",
    "\n",
    "for word in word_list:\n",
    "    for i in range(5):\n",
    "        index_dict_array[i][word[i]] += 1\n",
    "#print(index_dict_array[1])\n",
    "\n",
    "\n",
    "# Create a list of tuples, where each tuple is a letter and the number of times it appears in the ith spot\n",
    "letter_freq = []\n",
    "for i in range(5):\n",
    "    letter_freq.append(list(index_dict_array[i].items()))\n",
    "sub = [sorted(index_freq, key= lambda x: x[1], reverse=False) for index_freq in letter_freq]\n",
    "\n",
    "# Rebuild array of dictionaries with the letter and ranking, 0 is least freqent\n",
    "letter_freq_dict_ranked = []\n",
    "for tuple_list in sub:\n",
    "    letter_freq_dict_ranked.append(dict([(t[0], i) for i, t in enumerate(tuple_list)]))\n",
    "\n",
    "letter_freq_dict_ranked\n",
    "\n"
   ]
  },
  {
   "cell_type": "code",
   "execution_count": 11,
   "metadata": {},
   "outputs": [],
   "source": [
    "# Create dictionary where key is a word and the value is the score based on the frequency of each letter \n",
    "word_scored_dict = {}\n",
    "for word in word_list:\n",
    "    score = 0\n",
    "    for i in range(5):\n",
    "        score += index_dict_array[i][word[i]]\n",
    "    word_scored_dict[word] = score"
   ]
  },
  {
   "cell_type": "code",
   "execution_count": 18,
   "metadata": {},
   "outputs": [
    {
     "data": {
      "text/plain": [
       "('sanes', 14333)"
      ]
     },
     "execution_count": 18,
     "metadata": {},
     "output_type": "execute_result"
    }
   ],
   "source": [
    "max(word_scored_dict.items(), key=operator.itemgetter(1))"
   ]
  }
 ],
 "metadata": {
  "interpreter": {
   "hash": "d31b0b69fd199cf305950dfbff400c7c0f65200232853604d3e88254562f0691"
  },
  "kernelspec": {
   "display_name": "Python 3.8.10 64-bit",
   "language": "python",
   "name": "python3"
  },
  "language_info": {
   "codemirror_mode": {
    "name": "ipython",
    "version": 3
   },
   "file_extension": ".py",
   "mimetype": "text/x-python",
   "name": "python",
   "nbconvert_exporter": "python",
   "pygments_lexer": "ipython3",
   "version": "3.8.10"
  },
  "orig_nbformat": 4
 },
 "nbformat": 4,
 "nbformat_minor": 2
}
